{
  "nbformat": 4,
  "nbformat_minor": 0,
  "metadata": {
    "colab": {
      "provenance": []
    },
    "kernelspec": {
      "name": "python3",
      "display_name": "Python 3"
    },
    "language_info": {
      "name": "python"
    }
  },
  "cells": [
    {
      "cell_type": "code",
      "execution_count": 1,
      "metadata": {
        "colab": {
          "base_uri": "https://localhost:8080/"
        },
        "id": "VPGJ0U08oyJk",
        "outputId": "c94df9c5-fced-4f28-d4a4-38634071969f"
      },
      "outputs": [
        {
          "output_type": "stream",
          "name": "stderr",
          "text": [
            "/usr/local/lib/python3.10/dist-packages/sklearn/datasets/_openml.py:968: FutureWarning: The default value of `parser` will change from `'liac-arff'` to `'auto'` in 1.4. You can set `parser='auto'` to silence this warning. Therefore, an `ImportError` will be raised from 1.4 if the dataset is dense and pandas is not installed. Note that the pandas parser may return different data types. See the Notes Section in fetch_openml's API doc for details.\n",
            "  warn(\n"
          ]
        },
        {
          "output_type": "stream",
          "name": "stdout",
          "text": [
            "kNN Average Accuracy (k-fold): 0.7908133971291866\n",
            "SVM Average Accuracy (stratified k-fold): 0.8022328548644339\n"
          ]
        }
      ],
      "source": [
        "# Import necessary libraries\n",
        "import pandas as pd\n",
        "from sklearn.model_selection import train_test_split, cross_val_score, StratifiedKFold\n",
        "from sklearn.preprocessing import StandardScaler\n",
        "from sklearn.neighbors import KNeighborsClassifier\n",
        "from sklearn.svm import SVC\n",
        "from sklearn.impute import SimpleImputer\n",
        "from sklearn.pipeline import make_pipeline\n",
        "from sklearn.metrics import accuracy_score\n",
        "from sklearn.datasets import fetch_openml\n",
        "\n",
        "# Load the Titanic dataset\n",
        "titanic = fetch_openml(name='titanic', version=1, as_frame=True)\n",
        "X = titanic.data\n",
        "y = titanic.target\n",
        "\n",
        "# Pre-processing steps\n",
        "# For simplicity, we will drop non-numeric columns and handle missing values\n",
        "X = X.drop(['name', 'cabin', 'embarked', 'boat', 'body', 'home.dest', 'ticket'], axis=1)\n",
        "X['sex'] = X['sex'].map({'male': 0, 'female': 1})\n",
        "X = X.apply(pd.to_numeric, errors='coerce')  # Convert non-numeric values to NaN\n",
        "X = SimpleImputer(strategy='mean').fit_transform(X)  # Impute missing values with mean\n",
        "\n",
        "# Split the dataset into training and testing sets\n",
        "X_train, X_test, y_train, y_test = train_test_split(X, y, test_size=0.2, random_state=42)\n",
        "\n",
        "# Standardize the features\n",
        "scaler = StandardScaler()\n",
        "X_train = scaler.fit_transform(X_train)\n",
        "X_test = scaler.transform(X_test)\n",
        "\n",
        "# Define kNN and SVM models\n",
        "knn_model = KNeighborsClassifier()\n",
        "svm_model = SVC()\n",
        "\n",
        "# Combine models with pipelines for simplicity\n",
        "knn_pipeline = make_pipeline(knn_model)\n",
        "svm_pipeline = make_pipeline(svm_model)\n",
        "\n",
        "# Define k-fold and stratified k-fold cross-validation techniques\n",
        "k_fold = 5\n",
        "stratified_k_fold = StratifiedKFold(n_splits=k_fold)\n",
        "\n",
        "# Evaluate kNN model with k-fold cross-validation\n",
        "knn_cross_val_scores = cross_val_score(knn_pipeline, X_train, y_train, cv=k_fold)\n",
        "knn_avg_accuracy = knn_cross_val_scores.mean()\n",
        "print(f'kNN Average Accuracy (k-fold): {knn_avg_accuracy}')\n",
        "\n",
        "# Evaluate SVM model with stratified k-fold cross-validation\n",
        "svm_cross_val_scores = cross_val_score(svm_pipeline, X_train, y_train, cv=stratified_k_fold)\n",
        "svm_avg_accuracy = svm_cross_val_scores.mean()\n",
        "print(f'SVM Average Accuracy (stratified k-fold): {svm_avg_accuracy}')\n"
      ]
    }
  ]
}